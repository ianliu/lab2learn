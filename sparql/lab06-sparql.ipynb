{
 "cells": [
  {
   "cell_type": "code",
   "execution_count": 1,
   "metadata": {},
   "outputs": [
    {
     "data": {
      "text/html": [
       "<div class=\"krn-spql\"><div class=\"magic\">Endpoint set to: http://dbpedia.org/sparql</div><div class=\"magic\">Display: table</div><div class=\"magic\">Result maximum size: unlimited</div></div>"
      ],
      "text/plain": [
       "Endpoint set to: http://dbpedia.org/sparql\n",
       "Display: table\n",
       "Result maximum size: unlimited\n"
      ]
     },
     "metadata": {},
     "output_type": "display_data"
    }
   ],
   "source": [
    "%endpoint http://dbpedia.org/sparql\n",
    "%display table\n",
    "%show all"
   ]
  },
  {
   "cell_type": "markdown",
   "metadata": {},
   "source": [
    "# SPARQL\n",
    "## Em todas as questões e exercícios a seguir você pode limitar a saída para 20 itens usando a cláusula LIMIT 20."
   ]
  },
  {
   "cell_type": "markdown",
   "metadata": {},
   "source": [
    "# Exemplo\n",
    "## Quem é autor de The Tin Drum?"
   ]
  },
  {
   "cell_type": "code",
   "execution_count": 2,
   "metadata": {},
   "outputs": [
    {
     "data": {
      "text/html": [
       "<div class=\"krn-spql\"><table><tr class=hdr><th>aut</th></tr><tr class=odd><td class=val><a href=\"http://dbpedia.org/resource/Günter_Grass\" target=\"_other\">http://dbpedia.org/resource/Günter_Grass</a></td></tr></table><div class=\"tinfo\">Total: 1, Shown: 1</div></div>"
      ]
     },
     "metadata": {},
     "output_type": "display_data"
    }
   ],
   "source": [
    "select ?aut\n",
    "  where {dbr:The_Tin_Drum dbo:author ?aut}"
   ]
  },
  {
   "cell_type": "markdown",
   "metadata": {},
   "source": [
    "# Questão\n",
    "## Quais os livros escritos por Günter Grass?"
   ]
  },
  {
   "cell_type": "code",
   "execution_count": 3,
   "metadata": {},
   "outputs": [
    {
     "data": {
      "text/html": [
       "<div class=\"krn-spql\"><table><tr class=hdr><th>book</th></tr><tr class=odd><td class=val><a href=\"http://dbpedia.org/resource/Cat_and_Mouse_(novella)\" target=\"_other\">http://dbpedia.org/resource/Cat_and_Mouse_(novella)</a></td></tr><tr class=even><td class=val><a href=\"http://dbpedia.org/resource/The_Rat_(novel)\" target=\"_other\">http://dbpedia.org/resource/The_Rat_(novel)</a></td></tr><tr class=odd><td class=val><a href=\"http://dbpedia.org/resource/The_Tin_Drum\" target=\"_other\">http://dbpedia.org/resource/The_Tin_Drum</a></td></tr><tr class=even><td class=val><a href=\"http://dbpedia.org/resource/Dog_Years_(novel)\" target=\"_other\">http://dbpedia.org/resource/Dog_Years_(novel)</a></td></tr><tr class=odd><td class=val><a href=\"http://dbpedia.org/resource/The_Meeting_at_Telgte\" target=\"_other\">http://dbpedia.org/resource/The_Meeting_at_Telgte</a></td></tr><tr class=even><td class=val><a href=\"http://dbpedia.org/resource/The_Box_(Grass_book)\" target=\"_other\">http://dbpedia.org/resource/The_Box_(Grass_book)</a></td></tr><tr class=odd><td class=val><a href=\"http://dbpedia.org/resource/Local_Anaesthetic_(novel)\" target=\"_other\">http://dbpedia.org/resource/Local_Anaesthetic_(novel)</a></td></tr><tr class=even><td class=val><a href=\"http://dbpedia.org/resource/Crabwalk\" target=\"_other\">http://dbpedia.org/resource/Crabwalk</a></td></tr><tr class=odd><td class=val><a href=\"http://dbpedia.org/resource/The_Call_of_the_Toad\" target=\"_other\">http://dbpedia.org/resource/The_Call_of_the_Toad</a></td></tr><tr class=even><td class=val><a href=\"http://dbpedia.org/resource/The_Flounder\" target=\"_other\">http://dbpedia.org/resource/The_Flounder</a></td></tr></table><div class=\"tinfo\">Total: 10, Shown: 10</div></div>"
      ]
     },
     "metadata": {},
     "output_type": "display_data"
    }
   ],
   "source": [
    "select ?book\n",
    "  where {?book dbo:author dbr:Günter_Grass}"
   ]
  },
  {
   "cell_type": "markdown",
   "metadata": {},
   "source": [
    "# Exemplo\n",
    "## Quais os escritores?"
   ]
  },
  {
   "cell_type": "code",
   "execution_count": 6,
   "metadata": {},
   "outputs": [
    {
     "data": {
      "text/html": [
       "<div class=\"krn-spql\"><table><tr class=hdr><th>wri</th></tr><tr class=odd><td class=val><a href=\"http://dbpedia.org/resource/Abbie_Hoffman\" target=\"_other\">http://dbpedia.org/resource/Abbie_Hoffman</a></td></tr><tr class=even><td class=val><a href=\"http://dbpedia.org/resource/Adam_Oehlenschläger\" target=\"_other\">http://dbpedia.org/resource/Adam_Oehlenschläger</a></td></tr><tr class=odd><td class=val><a href=\"http://dbpedia.org/resource/Adam_Wiśniewski-Snerg\" target=\"_other\">http://dbpedia.org/resource/Adam_Wiśniewski-Snerg</a></td></tr><tr class=even><td class=val><a href=\"http://dbpedia.org/resource/Adrienne_Rich\" target=\"_other\">http://dbpedia.org/resource/Adrienne_Rich</a></td></tr><tr class=odd><td class=val><a href=\"http://dbpedia.org/resource/Alessandro_Manzoni\" target=\"_other\">http://dbpedia.org/resource/Alessandro_Manzoni</a></td></tr><tr class=even><td class=val><a href=\"http://dbpedia.org/resource/Alfred_Bester\" target=\"_other\">http://dbpedia.org/resource/Alfred_Bester</a></td></tr><tr class=odd><td class=val><a href=\"http://dbpedia.org/resource/Alice_Walker\" target=\"_other\">http://dbpedia.org/resource/Alice_Walker</a></td></tr><tr class=even><td class=val><a href=\"http://dbpedia.org/resource/Amy_Tan\" target=\"_other\">http://dbpedia.org/resource/Amy_Tan</a></td></tr><tr class=odd><td class=val><a href=\"http://dbpedia.org/resource/Andrew_Marvell\" target=\"_other\">http://dbpedia.org/resource/Andrew_Marvell</a></td></tr><tr class=even><td class=val><a href=\"http://dbpedia.org/resource/Andrew_Sarris\" target=\"_other\">http://dbpedia.org/resource/Andrew_Sarris</a></td></tr><tr class=odd><td class=val><a href=\"http://dbpedia.org/resource/André_Breton\" target=\"_other\">http://dbpedia.org/resource/André_Breton</a></td></tr><tr class=even><td class=val><a href=\"http://dbpedia.org/resource/André_Malraux\" target=\"_other\">http://dbpedia.org/resource/André_Malraux</a></td></tr><tr class=odd><td class=val><a href=\"http://dbpedia.org/resource/Anne_Desclos\" target=\"_other\">http://dbpedia.org/resource/Anne_Desclos</a></td></tr><tr class=even><td class=val><a href=\"http://dbpedia.org/resource/Anthony_Burgess\" target=\"_other\">http://dbpedia.org/resource/Anthony_Burgess</a></td></tr><tr class=odd><td class=val><a href=\"http://dbpedia.org/resource/Arthur_Machen\" target=\"_other\">http://dbpedia.org/resource/Arthur_Machen</a></td></tr><tr class=even><td class=val><a href=\"http://dbpedia.org/resource/Astrid_Lindgren\" target=\"_other\">http://dbpedia.org/resource/Astrid_Lindgren</a></td></tr><tr class=odd><td class=val><a href=\"http://dbpedia.org/resource/August_Strindberg\" target=\"_other\">http://dbpedia.org/resource/August_Strindberg</a></td></tr><tr class=even><td class=val><a href=\"http://dbpedia.org/resource/Augusto_Boal\" target=\"_other\">http://dbpedia.org/resource/Augusto_Boal</a></td></tr><tr class=odd><td class=val><a href=\"http://dbpedia.org/resource/Barry_Took\" target=\"_other\">http://dbpedia.org/resource/Barry_Took</a></td></tr><tr class=even><td class=val><a href=\"http://dbpedia.org/resource/Ben_Jonson\" target=\"_other\">http://dbpedia.org/resource/Ben_Jonson</a></td></tr></table><div class=\"tinfo\">Total: 20, Shown: 20</div></div>"
      ]
     },
     "metadata": {},
     "output_type": "display_data"
    }
   ],
   "source": [
    "select distinct ?wri\n",
    "  where {?wri a dbo:Writer}\n",
    "  limit 20"
   ]
  },
  {
   "cell_type": "markdown",
   "metadata": {},
   "source": [
    "# Questão\n",
    "## Quais as entidades de língua alemã?"
   ]
  },
  {
   "cell_type": "code",
   "execution_count": 8,
   "metadata": {},
   "outputs": [
    {
     "data": {
      "text/html": [
       "<div class=\"krn-spql\"><table><tr class=hdr><th>entity</th></tr><tr class=odd><td class=val><a href=\"http://www.w3.org/1999/02/22-rdf-syntax-ns#type\" target=\"_other\">http://www.w3.org/1999/02/22-rdf-syntax-ns#type</a></td></tr><tr class=even><td class=val><a href=\"http://www.w3.org/2000/01/rdf-schema#label\" target=\"_other\">http://www.w3.org/2000/01/rdf-schema#label</a></td></tr><tr class=odd><td class=val><a href=\"http://www.w3.org/2000/01/rdf-schema#comment\" target=\"_other\">http://www.w3.org/2000/01/rdf-schema#comment</a></td></tr><tr class=even><td class=val><a href=\"http://www.w3.org/2002/07/owl#differentFrom\" target=\"_other\">http://www.w3.org/2002/07/owl#differentFrom</a></td></tr><tr class=odd><td class=val><a href=\"http://www.w3.org/2002/07/owl#sameAs\" target=\"_other\">http://www.w3.org/2002/07/owl#sameAs</a></td></tr><tr class=even><td class=val><a href=\"http://purl.org/dc/terms/subject\" target=\"_other\">http://purl.org/dc/terms/subject</a></td></tr><tr class=odd><td class=val><a href=\"http://dbpedia.org/ontology/wikiPageID\" target=\"_other\">http://dbpedia.org/ontology/wikiPageID</a></td></tr><tr class=even><td class=val><a href=\"http://dbpedia.org/ontology/wikiPageRevisionID\" target=\"_other\">http://dbpedia.org/ontology/wikiPageRevisionID</a></td></tr><tr class=odd><td class=val><a href=\"http://dbpedia.org/ontology/wikiPageWikiLink\" target=\"_other\">http://dbpedia.org/ontology/wikiPageWikiLink</a></td></tr><tr class=even><td class=val><a href=\"http://dbpedia.org/ontology/wikiPageExternalLink\" target=\"_other\">http://dbpedia.org/ontology/wikiPageExternalLink</a></td></tr><tr class=odd><td class=val><a href=\"http://xmlns.com/foaf/0.1/name\" target=\"_other\">http://xmlns.com/foaf/0.1/name</a></td></tr><tr class=even><td class=val><a href=\"http://xmlns.com/foaf/0.1/homepage\" target=\"_other\">http://xmlns.com/foaf/0.1/homepage</a></td></tr><tr class=odd><td class=val><a href=\"http://xmlns.com/foaf/0.1/depiction\" target=\"_other\">http://xmlns.com/foaf/0.1/depiction</a></td></tr><tr class=even><td class=val><a href=\"http://xmlns.com/foaf/0.1/isPrimaryTopicOf\" target=\"_other\">http://xmlns.com/foaf/0.1/isPrimaryTopicOf</a></td></tr><tr class=odd><td class=val><a href=\"http://dbpedia.org/ontology/thumbnail\" target=\"_other\">http://dbpedia.org/ontology/thumbnail</a></td></tr><tr class=even><td class=val><a href=\"http://www.w3.org/ns/prov#wasDerivedFrom\" target=\"_other\">http://www.w3.org/ns/prov#wasDerivedFrom</a></td></tr><tr class=odd><td class=val><a href=\"http://dbpedia.org/ontology/abstract\" target=\"_other\">http://dbpedia.org/ontology/abstract</a></td></tr><tr class=even><td class=val><a href=\"http://dbpedia.org/ontology/iso6391Code\" target=\"_other\">http://dbpedia.org/ontology/iso6391Code</a></td></tr><tr class=odd><td class=val><a href=\"http://dbpedia.org/ontology/languageFamily\" target=\"_other\">http://dbpedia.org/ontology/languageFamily</a></td></tr><tr class=even><td class=val><a href=\"http://dbpedia.org/ontology/languageRegulator\" target=\"_other\">http://dbpedia.org/ontology/languageRegulator</a></td></tr></table><div class=\"tinfo\">Total: 20, Shown: 20</div></div>"
      ]
     },
     "metadata": {},
     "output_type": "display_data"
    }
   ],
   "source": [
    "select distinct ?entity\n",
    "  where {dbr:German_language ?entity ?y}\n",
    "limit 20"
   ]
  },
  {
   "cell_type": "markdown",
   "metadata": {},
   "source": [
    "# Questão\n",
    "## Quais os autores de língua alemã?"
   ]
  },
  {
   "cell_type": "code",
   "execution_count": 9,
   "metadata": {},
   "outputs": [
    {
     "data": {
      "text/html": [
       "<div class=\"krn-spql\"><table><tr class=hdr><th>author</th></tr><tr class=odd><td class=val><a href=\"http://dbpedia.org/resource/Andreas_Mand\" target=\"_other\">http://dbpedia.org/resource/Andreas_Mand</a></td></tr><tr class=even><td class=val><a href=\"http://dbpedia.org/resource/Franz_Hohler\" target=\"_other\">http://dbpedia.org/resource/Franz_Hohler</a></td></tr><tr class=odd><td class=val><a href=\"http://dbpedia.org/resource/Enver_Čolaković\" target=\"_other\">http://dbpedia.org/resource/Enver_Čolaković</a></td></tr><tr class=even><td class=val><a href=\"http://dbpedia.org/resource/Toti_Martínez_de_Lezea\" target=\"_other\">http://dbpedia.org/resource/Toti_Martínez_de_Lezea</a></td></tr><tr class=odd><td class=val><a href=\"http://dbpedia.org/resource/Christabel_Bielenberg\" target=\"_other\">http://dbpedia.org/resource/Christabel_Bielenberg</a></td></tr><tr class=even><td class=val><a href=\"http://dbpedia.org/resource/Marius_von_Mayenburg\" target=\"_other\">http://dbpedia.org/resource/Marius_von_Mayenburg</a></td></tr><tr class=odd><td class=val><a href=\"http://dbpedia.org/resource/John_Milton\" target=\"_other\">http://dbpedia.org/resource/John_Milton</a></td></tr><tr class=even><td class=val><a href=\"http://dbpedia.org/resource/Max_Frisch\" target=\"_other\">http://dbpedia.org/resource/Max_Frisch</a></td></tr><tr class=odd><td class=val><a href=\"http://dbpedia.org/resource/Ludwig_Hohl\" target=\"_other\">http://dbpedia.org/resource/Ludwig_Hohl</a></td></tr><tr class=even><td class=val><a href=\"http://dbpedia.org/resource/Ferdinand_Blumentritt\" target=\"_other\">http://dbpedia.org/resource/Ferdinand_Blumentritt</a></td></tr><tr class=odd><td class=val><a href=\"http://dbpedia.org/resource/Stefan_George\" target=\"_other\">http://dbpedia.org/resource/Stefan_George</a></td></tr><tr class=even><td class=val><a href=\"http://dbpedia.org/resource/Stanisław_Przybyszewski\" target=\"_other\">http://dbpedia.org/resource/Stanisław_Przybyszewski</a></td></tr><tr class=odd><td class=val><a href=\"http://dbpedia.org/resource/Liu_Banjiu\" target=\"_other\">http://dbpedia.org/resource/Liu_Banjiu</a></td></tr><tr class=even><td class=val><a href=\"http://dbpedia.org/resource/Urs_Widmer\" target=\"_other\">http://dbpedia.org/resource/Urs_Widmer</a></td></tr><tr class=odd><td class=val><a href=\"http://dbpedia.org/resource/Angela_Steinmüller\" target=\"_other\">http://dbpedia.org/resource/Angela_Steinmüller</a></td></tr><tr class=even><td class=val><a href=\"http://dbpedia.org/resource/Günther_Krupkat\" target=\"_other\">http://dbpedia.org/resource/Günther_Krupkat</a></td></tr><tr class=odd><td class=val><a href=\"http://dbpedia.org/resource/Leonhard_Ennen\" target=\"_other\">http://dbpedia.org/resource/Leonhard_Ennen</a></td></tr><tr class=even><td class=val><a href=\"http://dbpedia.org/resource/Arno_Camenisch\" target=\"_other\">http://dbpedia.org/resource/Arno_Camenisch</a></td></tr><tr class=odd><td class=val><a href=\"http://dbpedia.org/resource/Oscar_Peer\" target=\"_other\">http://dbpedia.org/resource/Oscar_Peer</a></td></tr><tr class=even><td class=val><a href=\"http://dbpedia.org/resource/Ernst_Weiss\" target=\"_other\">http://dbpedia.org/resource/Ernst_Weiss</a></td></tr></table><div class=\"tinfo\">Total: 20, Shown: 20</div></div>"
      ]
     },
     "metadata": {},
     "output_type": "display_data"
    }
   ],
   "source": [
    "select distinct ?author\n",
    "  where {?author a dbo:Writer ;\n",
    "                 dbo:language dbr:German_language}\n",
    "limit 20"
   ]
  },
  {
   "cell_type": "markdown",
   "metadata": {},
   "source": [
    "# Questão\n",
    "## Quais os escritores traduzidos por Ralph Manheim?"
   ]
  },
  {
   "cell_type": "code",
   "execution_count": 10,
   "metadata": {},
   "outputs": [
    {
     "data": {
      "text/html": [
       "<div class=\"krn-spql\"><table><tr class=hdr><th>author</th></tr><tr class=odd><td class=val><a href=\"http://dbpedia.org/resource/Günter_Grass\" target=\"_other\">http://dbpedia.org/resource/Günter_Grass</a></td></tr><tr class=even><td class=val><a href=\"http://dbpedia.org/resource/Erich_Neumann_(psychologist)\" target=\"_other\">http://dbpedia.org/resource/Erich_Neumann_(psychologist)</a></td></tr><tr class=odd><td class=val><a href=\"http://dbpedia.org/resource/Peter_Handke\" target=\"_other\">http://dbpedia.org/resource/Peter_Handke</a></td></tr><tr class=even><td class=val><a href=\"http://dbpedia.org/resource/Michael_Ende\" target=\"_other\">http://dbpedia.org/resource/Michael_Ende</a></td></tr><tr class=odd><td class=val><a href=\"http://dbpedia.org/resource/Louis-Ferdinand_Céline\" target=\"_other\">http://dbpedia.org/resource/Louis-Ferdinand_Céline</a></td></tr><tr class=even><td class=val><a href=\"http://dbpedia.org/resource/Erich_Maria_Remarque\" target=\"_other\">http://dbpedia.org/resource/Erich_Maria_Remarque</a></td></tr></table><div class=\"tinfo\">Total: 6, Shown: 6</div></div>"
      ]
     },
     "metadata": {},
     "output_type": "display_data"
    }
   ],
   "source": [
    "select distinct ?author\n",
    "  where {?book dbo:translator dbr:Ralph_Manheim .\n",
    "         ?book dbo:author ?author}"
   ]
  },
  {
   "cell_type": "markdown",
   "metadata": {},
   "source": [
    "# Exercício 1\n",
    "## Liste as cidades disponíveis na DBPedia."
   ]
  },
  {
   "cell_type": "code",
   "execution_count": 11,
   "metadata": {},
   "outputs": [
    {
     "data": {
      "text/html": [
       "<div class=\"krn-spql\"><table><tr class=hdr><th>city</th></tr><tr class=odd><td class=val><a href=\"http://dbpedia.org/resource/Acre,_Israel\" target=\"_other\">http://dbpedia.org/resource/Acre,_Israel</a></td></tr><tr class=even><td class=val><a href=\"http://dbpedia.org/resource/Antioch\" target=\"_other\">http://dbpedia.org/resource/Antioch</a></td></tr><tr class=odd><td class=val><a href=\"http://dbpedia.org/resource/Ashkelon\" target=\"_other\">http://dbpedia.org/resource/Ashkelon</a></td></tr><tr class=even><td class=val><a href=\"http://dbpedia.org/resource/Balanjar\" target=\"_other\">http://dbpedia.org/resource/Balanjar</a></td></tr><tr class=odd><td class=val><a href=\"http://dbpedia.org/resource/Ctesiphon\" target=\"_other\">http://dbpedia.org/resource/Ctesiphon</a></td></tr><tr class=even><td class=val><a href=\"http://dbpedia.org/resource/Espoo\" target=\"_other\">http://dbpedia.org/resource/Espoo</a></td></tr><tr class=odd><td class=val><a href=\"http://dbpedia.org/resource/Gaza_City\" target=\"_other\">http://dbpedia.org/resource/Gaza_City</a></td></tr><tr class=even><td class=val><a href=\"http://dbpedia.org/resource/Haifa\" target=\"_other\">http://dbpedia.org/resource/Haifa</a></td></tr><tr class=odd><td class=val><a href=\"http://dbpedia.org/resource/Hebron\" target=\"_other\">http://dbpedia.org/resource/Hebron</a></td></tr><tr class=even><td class=val><a href=\"http://dbpedia.org/resource/Independent_city\" target=\"_other\">http://dbpedia.org/resource/Independent_city</a></td></tr><tr class=odd><td class=val><a href=\"http://dbpedia.org/resource/Jenin\" target=\"_other\">http://dbpedia.org/resource/Jenin</a></td></tr><tr class=even><td class=val><a href=\"http://dbpedia.org/resource/Khazaran\" target=\"_other\">http://dbpedia.org/resource/Khazaran</a></td></tr><tr class=odd><td class=val><a href=\"http://dbpedia.org/resource/Leptis_Magna\" target=\"_other\">http://dbpedia.org/resource/Leptis_Magna</a></td></tr><tr class=even><td class=val><a href=\"http://dbpedia.org/resource/Lord_Mayor_of_London\" target=\"_other\">http://dbpedia.org/resource/Lord_Mayor_of_London</a></td></tr><tr class=odd><td class=val><a href=\"http://dbpedia.org/resource/Petra\" target=\"_other\">http://dbpedia.org/resource/Petra</a></td></tr><tr class=even><td class=val><a href=\"http://dbpedia.org/resource/Porvoo\" target=\"_other\">http://dbpedia.org/resource/Porvoo</a></td></tr><tr class=odd><td class=val><a href=\"http://dbpedia.org/resource/Ramallah\" target=\"_other\">http://dbpedia.org/resource/Ramallah</a></td></tr><tr class=even><td class=val><a href=\"http://dbpedia.org/resource/Samandar_(city)\" target=\"_other\">http://dbpedia.org/resource/Samandar_(city)</a></td></tr><tr class=odd><td class=val><a href=\"http://dbpedia.org/resource/Sardis\" target=\"_other\">http://dbpedia.org/resource/Sardis</a></td></tr><tr class=even><td class=val><a href=\"http://dbpedia.org/resource/Segesta\" target=\"_other\">http://dbpedia.org/resource/Segesta</a></td></tr></table><div class=\"tinfo\">Total: 20, Shown: 20</div></div>"
      ]
     },
     "metadata": {},
     "output_type": "display_data"
    }
   ],
   "source": [
    "select ?city\n",
    "  where {?city a dbo:City}\n",
    "limit 20"
   ]
  },
  {
   "cell_type": "markdown",
   "metadata": {},
   "source": [
    "# Exercício 2\n",
    "## Liste todas as cidades administradas pelo partido socialista."
   ]
  },
  {
   "cell_type": "code",
   "execution_count": 13,
   "metadata": {},
   "outputs": [
    {
     "data": {
      "text/html": [
       "<div class=\"krn-spql\"><table><tr class=hdr><th>city</th></tr><tr class=odd><td class=val><a href=\"http://dbpedia.org/resource/Al-Rastan\" target=\"_other\">http://dbpedia.org/resource/Al-Rastan</a></td></tr><tr class=even><td class=val><a href=\"http://dbpedia.org/resource/Al-Hirak,_Syria\" target=\"_other\">http://dbpedia.org/resource/Al-Hirak,_Syria</a></td></tr><tr class=odd><td class=val><a href=\"http://dbpedia.org/resource/Jasim\" target=\"_other\">http://dbpedia.org/resource/Jasim</a></td></tr><tr class=even><td class=val><a href=\"http://dbpedia.org/resource/Kafr_Shams\" target=\"_other\">http://dbpedia.org/resource/Kafr_Shams</a></td></tr><tr class=odd><td class=val><a href=\"http://dbpedia.org/resource/Deir_Atiyah\" target=\"_other\">http://dbpedia.org/resource/Deir_Atiyah</a></td></tr><tr class=even><td class=val><a href=\"http://dbpedia.org/resource/Al-Qusayr,_Syria\" target=\"_other\">http://dbpedia.org/resource/Al-Qusayr,_Syria</a></td></tr><tr class=odd><td class=val><a href=\"http://dbpedia.org/resource/Al-Tall,_Syria\" target=\"_other\">http://dbpedia.org/resource/Al-Tall,_Syria</a></td></tr><tr class=even><td class=val><a href=\"http://dbpedia.org/resource/Al-Dumayr\" target=\"_other\">http://dbpedia.org/resource/Al-Dumayr</a></td></tr><tr class=odd><td class=val><a href=\"http://dbpedia.org/resource/Al-Jalaa\" target=\"_other\">http://dbpedia.org/resource/Al-Jalaa</a></td></tr><tr class=even><td class=val><a href=\"http://dbpedia.org/resource/Al-Ruhaybah\" target=\"_other\">http://dbpedia.org/resource/Al-Ruhaybah</a></td></tr><tr class=odd><td class=val><a href=\"http://dbpedia.org/resource/Kobanî\" target=\"_other\">http://dbpedia.org/resource/Kobanî</a></td></tr><tr class=even><td class=val><a href=\"http://dbpedia.org/resource/Al-Bukamal\" target=\"_other\">http://dbpedia.org/resource/Al-Bukamal</a></td></tr><tr class=odd><td class=val><a href=\"http://dbpedia.org/resource/Al-Salamiyah\" target=\"_other\">http://dbpedia.org/resource/Al-Salamiyah</a></td></tr><tr class=even><td class=val><a href=\"http://dbpedia.org/resource/Idlib\" target=\"_other\">http://dbpedia.org/resource/Idlib</a></td></tr><tr class=odd><td class=val><a href=\"http://dbpedia.org/resource/Jableh\" target=\"_other\">http://dbpedia.org/resource/Jableh</a></td></tr><tr class=even><td class=val><a href=\"http://dbpedia.org/resource/Maarrat_al-Nu'man\" target=\"_other\">http://dbpedia.org/resource/Maarrat_al-Nu'man</a></td></tr><tr class=odd><td class=val><a href=\"http://dbpedia.org/resource/Saidnaya\" target=\"_other\">http://dbpedia.org/resource/Saidnaya</a></td></tr><tr class=even><td class=val><a href=\"http://dbpedia.org/resource/Tadmur\" target=\"_other\">http://dbpedia.org/resource/Tadmur</a></td></tr><tr class=odd><td class=val><a href=\"http://dbpedia.org/resource/Khirbet_al-Faras\" target=\"_other\">http://dbpedia.org/resource/Khirbet_al-Faras</a></td></tr><tr class=even><td class=val><a href=\"http://dbpedia.org/resource/Homs\" target=\"_other\">http://dbpedia.org/resource/Homs</a></td></tr></table><div class=\"tinfo\">Total: 20, Shown: 20</div></div>"
      ]
     },
     "metadata": {},
     "output_type": "display_data"
    }
   ],
   "source": [
    "select distinct ?city\n",
    "    where { ?city a dbo:City .\n",
    "            ?city dbo:country ?country .\n",
    "            ?country a yago:WikicatSocialistStates}\n",
    "limit 20"
   ]
  },
  {
   "cell_type": "markdown",
   "metadata": {},
   "source": [
    "# Exercício 3\n",
    "## Quem é o prefeito de Paris?"
   ]
  },
  {
   "cell_type": "code",
   "execution_count": 14,
   "metadata": {},
   "outputs": [
    {
     "data": {
      "text/html": [
       "<div class=\"krn-spql\"><table><tr class=hdr><th>mayor</th></tr><tr class=odd><td class=val><a href=\"http://dbpedia.org/resource/Anne_Hidalgo\" target=\"_other\">http://dbpedia.org/resource/Anne_Hidalgo</a></td></tr></table><div class=\"tinfo\">Total: 1, Shown: 1</div></div>"
      ]
     },
     "metadata": {},
     "output_type": "display_data"
    }
   ],
   "source": [
    "select ?mayor\n",
    "  where { dbr:Paris dbo:mayor ?mayor }"
   ]
  },
  {
   "cell_type": "markdown",
   "metadata": {},
   "source": [
    "# Exercício 4\n",
    "## Liste todas as cidades administradas por um prefeito que nasceu em Paris."
   ]
  },
  {
   "cell_type": "code",
   "execution_count": 15,
   "metadata": {},
   "outputs": [
    {
     "data": {
      "text/html": [
       "<div class=\"krn-spql\"><table><tr class=hdr><th>city</th></tr><tr class=odd><td class=val><a href=\"http://dbpedia.org/resource/Boulogne-Billancourt\" target=\"_other\">http://dbpedia.org/resource/Boulogne-Billancourt</a></td></tr><tr class=even><td class=val><a href=\"http://dbpedia.org/resource/Issy-les-Moulineaux\" target=\"_other\">http://dbpedia.org/resource/Issy-les-Moulineaux</a></td></tr><tr class=odd><td class=val><a href=\"http://dbpedia.org/resource/Bussy-Saint-Georges\" target=\"_other\">http://dbpedia.org/resource/Bussy-Saint-Georges</a></td></tr><tr class=even><td class=val><a href=\"http://dbpedia.org/resource/Vanault-les-Dames\" target=\"_other\">http://dbpedia.org/resource/Vanault-les-Dames</a></td></tr><tr class=odd><td class=val><a href=\"http://dbpedia.org/resource/Courbevoie\" target=\"_other\">http://dbpedia.org/resource/Courbevoie</a></td></tr><tr class=even><td class=val><a href=\"http://dbpedia.org/resource/Lille\" target=\"_other\">http://dbpedia.org/resource/Lille</a></td></tr><tr class=odd><td class=val><a href=\"http://dbpedia.org/resource/Richelieu,_Indre-et-Loire\" target=\"_other\">http://dbpedia.org/resource/Richelieu,_Indre-et-Loire</a></td></tr><tr class=even><td class=val><a href=\"http://dbpedia.org/resource/Yerres\" target=\"_other\">http://dbpedia.org/resource/Yerres</a></td></tr><tr class=odd><td class=val><a href=\"http://dbpedia.org/resource/Troyes\" target=\"_other\">http://dbpedia.org/resource/Troyes</a></td></tr></table><div class=\"tinfo\">Total: 9, Shown: 9</div></div>"
      ]
     },
     "metadata": {},
     "output_type": "display_data"
    }
   ],
   "source": [
    "select ?city where {\n",
    "    ?person dbo:birthPlace dbr:Paris .\n",
    "    ?city dbo:mayor ?person\n",
    "}\n",
    "limit 20"
   ]
  },
  {
   "cell_type": "markdown",
   "metadata": {},
   "source": [
    "# Exercício 5\n",
    "## Liste todas as plantas que têm flores"
   ]
  },
  {
   "cell_type": "code",
   "execution_count": 17,
   "metadata": {},
   "outputs": [
    {
     "data": {
      "text/html": [
       "<div class=\"krn-spql\"><table><tr class=hdr><th>plant</th></tr><tr class=odd><td class=val><a href=\"http://dbpedia.org/resource/Banksia\" target=\"_other\">http://dbpedia.org/resource/Banksia</a></td></tr><tr class=even><td class=val><a href=\"http://dbpedia.org/resource/Eucalyptus\" target=\"_other\">http://dbpedia.org/resource/Eucalyptus</a></td></tr><tr class=odd><td class=val><a href=\"http://dbpedia.org/resource/Gossypium\" target=\"_other\">http://dbpedia.org/resource/Gossypium</a></td></tr><tr class=even><td class=val><a href=\"http://dbpedia.org/resource/Helianthus_annuus\" target=\"_other\">http://dbpedia.org/resource/Helianthus_annuus</a></td></tr><tr class=odd><td class=val><a href=\"http://dbpedia.org/resource/Mangifera\" target=\"_other\">http://dbpedia.org/resource/Mangifera</a></td></tr><tr class=even><td class=val><a href=\"http://dbpedia.org/resource/Plantago\" target=\"_other\">http://dbpedia.org/resource/Plantago</a></td></tr><tr class=odd><td class=val><a href=\"http://dbpedia.org/resource/Tabebuia\" target=\"_other\">http://dbpedia.org/resource/Tabebuia</a></td></tr><tr class=even><td class=val><a href=\"http://dbpedia.org/resource/Uncaria\" target=\"_other\">http://dbpedia.org/resource/Uncaria</a></td></tr><tr class=odd><td class=val><a href=\"http://dbpedia.org/resource/Cryptocoryne\" target=\"_other\">http://dbpedia.org/resource/Cryptocoryne</a></td></tr><tr class=even><td class=val><a href=\"http://dbpedia.org/resource/Pavonia_(plant)\" target=\"_other\">http://dbpedia.org/resource/Pavonia_(plant)</a></td></tr><tr class=odd><td class=val><a href=\"http://dbpedia.org/resource/Cercis\" target=\"_other\">http://dbpedia.org/resource/Cercis</a></td></tr><tr class=even><td class=val><a href=\"http://dbpedia.org/resource/Helicteres_isora\" target=\"_other\">http://dbpedia.org/resource/Helicteres_isora</a></td></tr><tr class=odd><td class=val><a href=\"http://dbpedia.org/resource/Hylaea_(plant)\" target=\"_other\">http://dbpedia.org/resource/Hylaea_(plant)</a></td></tr><tr class=even><td class=val><a href=\"http://dbpedia.org/resource/Anisodus_tanguticus\" target=\"_other\">http://dbpedia.org/resource/Anisodus_tanguticus</a></td></tr><tr class=odd><td class=val><a href=\"http://dbpedia.org/resource/Salvia\" target=\"_other\">http://dbpedia.org/resource/Salvia</a></td></tr><tr class=even><td class=val><a href=\"http://dbpedia.org/resource/Schoenus_(plant)\" target=\"_other\">http://dbpedia.org/resource/Schoenus_(plant)</a></td></tr><tr class=odd><td class=val><a href=\"http://dbpedia.org/resource/Scoparia_(plant)\" target=\"_other\">http://dbpedia.org/resource/Scoparia_(plant)</a></td></tr><tr class=even><td class=val><a href=\"http://dbpedia.org/resource/Campanula\" target=\"_other\">http://dbpedia.org/resource/Campanula</a></td></tr><tr class=odd><td class=val><a href=\"http://dbpedia.org/resource/Erythrina_herbacea\" target=\"_other\">http://dbpedia.org/resource/Erythrina_herbacea</a></td></tr><tr class=even><td class=val><a href=\"http://dbpedia.org/resource/Ipomoea\" target=\"_other\">http://dbpedia.org/resource/Ipomoea</a></td></tr></table><div class=\"tinfo\">Total: 20, Shown: 20</div></div>"
      ]
     },
     "metadata": {},
     "output_type": "display_data"
    }
   ],
   "source": [
    "select ?plant where {\n",
    "    ?plant dbo:division dbr:Flowering_plant\n",
    "} limit 20"
   ]
  },
  {
   "cell_type": "markdown",
   "metadata": {},
   "source": [
    "# MeSH SPARQL endpoint\n",
    "## Explore o endpoint em: http://id.nlm.nih.gov/mesh"
   ]
  },
  {
   "cell_type": "code",
   "execution_count": 18,
   "metadata": {},
   "outputs": [
    {
     "data": {
      "text/html": [
       "<div class=\"krn-spql\"><div class=\"magic\">Endpoint set to: http://id.nlm.nih.gov/mesh/sparql</div><div class=\"magic\">Display: table</div><div class=\"magic\">Result maximum size: unlimited</div></div>"
      ],
      "text/plain": [
       "Endpoint set to: http://id.nlm.nih.gov/mesh/sparql\n",
       "Display: table\n",
       "Result maximum size: unlimited\n"
      ]
     },
     "metadata": {},
     "output_type": "display_data"
    }
   ],
   "source": [
    "%endpoint http://id.nlm.nih.gov/mesh/sparql\n",
    "%display table\n",
    "%show all"
   ]
  },
  {
   "cell_type": "markdown",
   "metadata": {},
   "source": [
    "# Exemplo\n",
    "## Ações farmacológicas"
   ]
  },
  {
   "cell_type": "code",
   "execution_count": 24,
   "metadata": {},
   "outputs": [
    {
     "data": {
      "text/html": [
       "<div class=\"krn-spql\"><table><tr class=hdr><th>pa</th>\n",
       "<th>paLabel</th></tr><tr class=odd><td class=val><a href=\"http://id.nlm.nih.gov/mesh/D000892\" target=\"_other\">http://id.nlm.nih.gov/mesh/D000892</a></td>\n",
       "<td class=val>Anti-Infective Agents, Urinary</td></tr><tr class=even><td class=val><a href=\"http://id.nlm.nih.gov/mesh/D000900\" target=\"_other\">http://id.nlm.nih.gov/mesh/D000900</a></td>\n",
       "<td class=val>Anti-Bacterial Agents</td></tr><tr class=odd><td class=val><a href=\"http://id.nlm.nih.gov/mesh/D059005\" target=\"_other\">http://id.nlm.nih.gov/mesh/D059005</a></td>\n",
       "<td class=val>Topoisomerase II Inhibitors</td></tr><tr class=even><td class=val><a href=\"http://id.nlm.nih.gov/mesh/D065609\" target=\"_other\">http://id.nlm.nih.gov/mesh/D065609</a></td>\n",
       "<td class=val>Cytochrome P-450 CYP1A2 Inhibitors</td></tr></table><div class=\"tinfo\">Total: 4, Shown: 4</div></div>"
      ]
     },
     "metadata": {},
     "output_type": "display_data"
    }
   ],
   "source": [
    "PREFIX rdf: <http://www.w3.org/1999/02/22-rdf-syntax-ns#>\n",
    "PREFIX rdfs: <http://www.w3.org/2000/01/rdf-schema#>\n",
    "PREFIX xsd: <http://www.w3.org/2001/XMLSchema#>\n",
    "PREFIX owl: <http://www.w3.org/2002/07/owl#>\n",
    "PREFIX meshv: <http://id.nlm.nih.gov/mesh/vocab#>\n",
    "PREFIX mesh: <http://id.nlm.nih.gov/mesh/>\n",
    "PREFIX mesh2015: <http://id.nlm.nih.gov/mesh/2015/>\n",
    "PREFIX mesh2016: <http://id.nlm.nih.gov/mesh/2016/>\n",
    "PREFIX mesh2017: <http://id.nlm.nih.gov/mesh/2017/>\n",
    "PREFIX mesh2018: <http://id.nlm.nih.gov/mesh/2018/>\n",
    "\n",
    "SELECT * \n",
    "WHERE {\n",
    "  mesh:D015242 meshv:pharmacologicalAction ?pa .\n",
    "  ?pa rdfs:label ?paLabel .\n",
    "}"
   ]
  },
  {
   "cell_type": "markdown",
   "metadata": {},
   "source": [
    "# Exercício 6\n",
    "## Encontre todos os conceitos que recebem o rótulo Myocardial Infarction"
   ]
  },
  {
   "cell_type": "code",
   "execution_count": 27,
   "metadata": {},
   "outputs": [
    {
     "data": {
      "text/html": [
       "<div class=\"krn-spql\"><table><tr class=hdr><th>c</th></tr><tr class=odd><td class=val><a href=\"http://id.nlm.nih.gov/mesh/M0014340\" target=\"_other\">http://id.nlm.nih.gov/mesh/M0014340</a></td></tr><tr class=even><td class=val><a href=\"http://id.nlm.nih.gov/mesh/2017/M0014340\" target=\"_other\">http://id.nlm.nih.gov/mesh/2017/M0014340</a></td></tr><tr class=odd><td class=val><a href=\"http://id.nlm.nih.gov/mesh/2015/M0014340\" target=\"_other\">http://id.nlm.nih.gov/mesh/2015/M0014340</a></td></tr><tr class=even><td class=val><a href=\"http://id.nlm.nih.gov/mesh/2016/M0014340\" target=\"_other\">http://id.nlm.nih.gov/mesh/2016/M0014340</a></td></tr><tr class=odd><td class=val><a href=\"http://id.nlm.nih.gov/mesh/2018/M0014340\" target=\"_other\">http://id.nlm.nih.gov/mesh/2018/M0014340</a></td></tr><tr class=even><td class=val><a href=\"http://id.nlm.nih.gov/mesh/2019/M0014340\" target=\"_other\">http://id.nlm.nih.gov/mesh/2019/M0014340</a></td></tr></table><div class=\"tinfo\">Total: 6, Shown: 6</div></div>"
      ]
     },
     "metadata": {},
     "output_type": "display_data"
    }
   ],
   "source": [
    "PREFIX meshv: <http://id.nlm.nih.gov/mesh/vocab#>\n",
    "PREFIX rdfs: <http://www.w3.org/2000/01/rdf-schema#>\n",
    "\n",
    "select ?c where {\n",
    "    ?c a meshv:Concept .\n",
    "    ?c rdfs:label \"Myocardial Infarction\"@en\n",
    "}"
   ]
  },
  {
   "cell_type": "code",
   "execution_count": null,
   "metadata": {},
   "outputs": [],
   "source": []
  }
 ],
 "metadata": {
  "kernelspec": {
   "display_name": "SPARQL",
   "language": "sparql",
   "name": "sparql"
  },
  "language_info": {
   "codemirror_mode": {
    "name": "sparql"
   },
   "mimetype": "application/sparql-query",
   "name": "sparql",
   "pygments_lexer": "sparql-nb"
  }
 },
 "nbformat": 4,
 "nbformat_minor": 2
}
